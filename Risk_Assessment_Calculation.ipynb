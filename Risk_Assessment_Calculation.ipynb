{
 "cells": [
  {
   "cell_type": "code",
   "execution_count": 5,
   "metadata": {},
   "outputs": [],
   "source": [
    "import arcpy\n",
    "from arcpy import env\n",
    "arcpy.CheckOutExtension(\"spatial\")\n",
    "arcpy.env.overwriteOutput = True\n",
    "env.workspace = \".\"\n",
    "import configparser\n",
    "config_ini = configparser.ConfigParser()\n",
    "config_ini.read('config.ini', encoding='utf-8')\n",
    "\n",
    "import ast\n",
    "D1 = arcpy.Raster(ast.literal_eval(config_ini['Properties']['D1']))\n",
    "D2 = arcpy.Raster(ast.literal_eval(config_ini['Properties']['D2']))\n",
    "D3name = ast.literal_eval(config_ini['Properties']['D3name'])\n",
    "D3param = ast.literal_eval(config_ini['Properties']['D3param'])\n",
    "D3 = arcpy.Raster(D3name[0]) * D3param[0]\n",
    "for i in range(1, len(D3name)):\n",
    "    D3 = D3 + arcpy.Raster(D3name[i]) * D3param[i]\n",
    "D4 = arcpy.Raster(ast.literal_eval(config_ini['Properties']['D4']))\n",
    "D5 = arcpy.Raster(ast.literal_eval(config_ini['Properties']['D5']))\n",
    "D6 = arcpy.Raster(ast.literal_eval(config_ini['Properties']['D6']))\n",
    "C1 = D1*0.25\n",
    "C2 = D2*0.2+D3*0.15\n",
    "C3 = D4*0.15+D5*0.15+D6*0.1\n",
    "B1 = C1+C2\n",
    "B2 = C3\n",
    "res = B1 + B2\n",
    "res.save(\"risk.tif\")"
   ]
  },
  {
   "cell_type": "code",
   "execution_count": null,
   "metadata": {},
   "outputs": [],
   "source": []
  },
  {
   "cell_type": "code",
   "execution_count": 3,
   "metadata": {},
   "outputs": [],
   "source": []
  },
  {
   "cell_type": "code",
   "execution_count": null,
   "metadata": {},
   "outputs": [],
   "source": []
  },
  {
   "cell_type": "code",
   "execution_count": null,
   "metadata": {},
   "outputs": [],
   "source": []
  },
  {
   "cell_type": "code",
   "execution_count": null,
   "metadata": {},
   "outputs": [],
   "source": []
  },
  {
   "cell_type": "code",
   "execution_count": null,
   "metadata": {},
   "outputs": [],
   "source": []
  },
  {
   "cell_type": "code",
   "execution_count": null,
   "metadata": {},
   "outputs": [],
   "source": []
  },
  {
   "cell_type": "code",
   "execution_count": null,
   "metadata": {},
   "outputs": [],
   "source": []
  },
  {
   "cell_type": "code",
   "execution_count": null,
   "metadata": {},
   "outputs": [],
   "source": []
  },
  {
   "cell_type": "code",
   "execution_count": null,
   "metadata": {},
   "outputs": [],
   "source": []
  },
  {
   "cell_type": "code",
   "execution_count": null,
   "metadata": {},
   "outputs": [],
   "source": []
  },
  {
   "cell_type": "code",
   "execution_count": null,
   "metadata": {},
   "outputs": [],
   "source": []
  },
  {
   "cell_type": "code",
   "execution_count": null,
   "metadata": {},
   "outputs": [],
   "source": [
    "new_raster = arcpy.NumPyArrayToRaster(LULC,LULC_origin.extent.lowerLeft,LULC_origin.meanCellWidth,LULC_origin.meanCellHeight,LULC_origin.noDataValue)"
   ]
  },
  {
   "cell_type": "code",
   "execution_count": null,
   "metadata": {},
   "outputs": [],
   "source": [
    "ArableLand = arcpy.NumPyArrayToRaster(np.where(LULC == 10, 10, 255))"
   ]
  },
  {
   "cell_type": "code",
   "execution_count": null,
   "metadata": {},
   "outputs": [],
   "source": [
    "tmp = Precipitation + Elevation + Population + GDP + LULC"
   ]
  },
  {
   "cell_type": "code",
   "execution_count": null,
   "metadata": {},
   "outputs": [],
   "source": [
    "tmp.save(\"tmp.tif\")"
   ]
  },
  {
   "cell_type": "code",
   "execution_count": null,
   "metadata": {},
   "outputs": [],
   "source": [
    "tmp = np.where(LULC == 10, 10, 0)\n",
    "tmp2 = arcpy.NumPyArrayToRaster(tmp)"
   ]
  },
  {
   "cell_type": "code",
   "execution_count": null,
   "metadata": {},
   "outputs": [],
   "source": [
    "tmp = arcpy.RasterToNumPyArray(\"tmp.tif\")"
   ]
  },
  {
   "cell_type": "code",
   "execution_count": null,
   "metadata": {},
   "outputs": [],
   "source": [
    "np.unique(tmp)"
   ]
  },
  {
   "cell_type": "code",
   "execution_count": null,
   "metadata": {},
   "outputs": [],
   "source": []
  },
  {
   "cell_type": "code",
   "execution_count": null,
   "metadata": {},
   "outputs": [],
   "source": []
  },
  {
   "cell_type": "code",
   "execution_count": null,
   "metadata": {},
   "outputs": [],
   "source": [
    "ArableLand = arcpy.NumPyArrayToRaster()"
   ]
  },
  {
   "cell_type": "code",
   "execution_count": null,
   "metadata": {},
   "outputs": [],
   "source": []
  },
  {
   "cell_type": "code",
   "execution_count": null,
   "metadata": {
    "scrolled": true
   },
   "outputs": [],
   "source": [
    "Elevation"
   ]
  },
  {
   "cell_type": "code",
   "execution_count": null,
   "metadata": {},
   "outputs": [],
   "source": []
  },
  {
   "cell_type": "code",
   "execution_count": null,
   "metadata": {},
   "outputs": [],
   "source": []
  }
 ],
 "metadata": {
  "kernelspec": {
   "display_name": "Python 3",
   "language": "python",
   "name": "python3"
  },
  "language_info": {
   "codemirror_mode": {
    "name": "ipython",
    "version": 3
   },
   "file_extension": ".py",
   "mimetype": "text/x-python",
   "name": "python",
   "nbconvert_exporter": "python",
   "pygments_lexer": "ipython3",
   "version": "3.6.8"
  }
 },
 "nbformat": 4,
 "nbformat_minor": 2
}
